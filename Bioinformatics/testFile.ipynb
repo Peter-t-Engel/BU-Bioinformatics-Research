{
 "cells": [
  {
   "cell_type": "code",
   "execution_count": 12,
   "metadata": {},
   "outputs": [
    {
     "name": "stdout",
     "output_type": "stream",
     "text": [
      "KI270742.1\n"
     ]
    }
   ],
   "source": [
    "chrom = 'Un_KI270742v1'\n",
    "rawChr = chrom.split('_')[1]\n",
    "vIndx = rawChr.rfind('v')\n",
    "chrom = rawChr[:vIndx] + '.' + rawChr[vIndx + 1:]\n",
    "print(chrom)"
   ]
  },
  {
   "cell_type": "code",
   "execution_count": 1,
   "metadata": {},
   "outputs": [
    {
     "name": "stdout",
     "output_type": "stream",
     "text": [
      "42dk\n"
     ]
    }
   ],
   "source": [
    "print(\"r42dk\".strip(\"chr\"))"
   ]
  }
 ],
 "metadata": {
  "kernelspec": {
   "display_name": "base",
   "language": "python",
   "name": "python3"
  },
  "language_info": {
   "codemirror_mode": {
    "name": "ipython",
    "version": 3
   },
   "file_extension": ".py",
   "mimetype": "text/x-python",
   "name": "python",
   "nbconvert_exporter": "python",
   "pygments_lexer": "ipython3",
   "version": "3.12.2"
  }
 },
 "nbformat": 4,
 "nbformat_minor": 2
}
